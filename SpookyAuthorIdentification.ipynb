{
 "cells": [
  {
   "cell_type": "markdown",
   "metadata": {},
   "source": [
    "We will perform text classificaiton using bag of words and finally load this as input into Fully connected layers of Neural Net. We shall use pandas,numpy for data operations and Keras for Fully connected layers of neural net"
   ]
  },
  {
   "cell_type": "markdown",
   "metadata": {},
   "source": [
    "We will perform below steps\n",
    "1. Clean Training data for punctuations and standard stopwords\n",
    "2. Create vocab list \n",
    "3. Convert text to matrix usng Keras Tokenizer\n",
    "4. Train neural net \n",
    "5. Predicton on test data and submission"
   ]
  },
  {
   "cell_type": "code",
   "execution_count": 58,
   "metadata": {},
   "outputs": [],
   "source": [
    "# Load the libraries\n",
    "import numpy as np\n",
    "import pandas as pd\n",
    "\n",
    "from pandas import DataFrame\n",
    "from collections import Counter\n",
    "from nltk.corpus import stopwords\n",
    "\n",
    "from keras.preprocessing.text import Tokenizer\n",
    "from keras.models import Model\n",
    "from keras import optimizers\n",
    "from keras.models import Sequential\n",
    "from keras.layers import Input, Dense, Activation, ZeroPadding2D, BatchNormalization, Flatten, Conv2D, Conv1D\n",
    "from keras.layers import AveragePooling2D, MaxPooling2D, Dropout, GlobalMaxPooling2D, GlobalAveragePooling2D\n",
    "\n",
    "from matplotlib import pyplot\n"
   ]
  },
  {
   "cell_type": "code",
   "execution_count": 7,
   "metadata": {},
   "outputs": [],
   "source": [
    "# turn a text into clean tokens\n",
    "def clean_text(text):\n",
    "    # remove punctuation from the text\n",
    "    text = text.replace(\"' \", \" ' \")\n",
    "    signs = set(',.:;\"?!')\n",
    "    prods = set(text) & signs\n",
    "    if not prods:\n",
    "        return text\n",
    "    for sign in prods:\n",
    "        text = text.replace(sign, ' {} '.format(sign) )\n",
    "    # split into tokens by white space\n",
    "    tokens = text.split()\n",
    "    # remove remaining tokens that are not alphabetic\n",
    "    tokens = [word for word in tokens if word.isalpha()]\n",
    "    # filter out stop words\n",
    "    stop_words = set(stopwords.words('english'))\n",
    "    tokens = [w for w in tokens if not w in stop_words]\n",
    "    # filter out short tokens\n",
    "    tokens = [word for word in tokens if len(word) > 1]\n",
    "    return tokens\n"
   ]
  },
  {
   "cell_type": "code",
   "execution_count": 8,
   "metadata": {},
   "outputs": [],
   "source": [
    "#Define column names\n",
    "TEXT =\"text\"\n",
    "AUTHOR = \"author\"\n",
    "\n",
    "# Create fucntion to load words into vocab\n",
    "\n",
    "def add_text_to_vocab(X_train, vocab):\n",
    "    for text in X_Train[TEXT]:\n",
    "      tokens = clean_text(text)\n",
    "      # update counts\n",
    "      vocab.update(tokens)\n",
    " "
   ]
  },
  {
   "cell_type": "markdown",
   "metadata": {},
   "source": [
    "Now, we will load the training data, clean up each text and load create a vocab list after filtering on punctuations, stopwords,short length tokens and minimum occurance."
   ]
  },
  {
   "cell_type": "code",
   "execution_count": 9,
   "metadata": {},
   "outputs": [],
   "source": [
    "# Read text from training data\n",
    "X_Train= pd.read_csv(\"train.csv\")\n",
    "\n",
    "# define vocab\n",
    "vocab = Counter()\n",
    "\n",
    "# add all text to vocab\n",
    "add_text_to_vocab(X_Train,vocab)\n"
   ]
  },
  {
   "cell_type": "code",
   "execution_count": 10,
   "metadata": {},
   "outputs": [],
   "source": [
    "# keep tokens with a min occurrence \n",
    "min_occurane = 2\n",
    "tokens = [k for k,c in vocab.items() if c >= min_occurane]"
   ]
  },
  {
   "cell_type": "markdown",
   "metadata": {},
   "source": [
    "Vocab list is now created. We will store that into a file for further reference"
   ]
  },
  {
   "cell_type": "code",
   "execution_count": 11,
   "metadata": {},
   "outputs": [],
   "source": [
    "# save list to file\n",
    "def save_list(lines, filename):\n",
    "    # convert lines to a single blob of text\n",
    "    data = '\\n'.join(lines)\n",
    "    # open file\n",
    "    file = open(filename, 'w')\n",
    "    # write text\n",
    "    file.write(data)\n",
    "    # close file\n",
    "    file.close()\n",
    "\n",
    "# save tokens to a vocabulary file\n",
    "save_list(tokens, 'vocab.txt')"
   ]
  },
  {
   "cell_type": "code",
   "execution_count": 13,
   "metadata": {},
   "outputs": [],
   "source": [
    "# load file into memory\n",
    "def load_file(filename):\n",
    "    # open the file as read only\n",
    "    file = open(filename, 'r')\n",
    "    # read all text\n",
    "    text = file.read()\n",
    "    # close the file\n",
    "    file.close()\n",
    "    return text\n",
    "\n",
    "# load the vocabulary back into memory to be used for model training\n",
    "vocab_filename = 'vocab.txt'\n",
    "vocab = load_file(vocab_filename)\n",
    "vocab = vocab.split()\n",
    "vocab = set(vocab)"
   ]
  },
  {
   "cell_type": "markdown",
   "metadata": {},
   "source": [
    "Now, we can start data preparation for model training. We will use Keras Tokenizer with mode as 'freq', I have tried Binary, count and tfidf as well. Freq modes seems to work best with lowest loss among these options"
   ]
  },
  {
   "cell_type": "code",
   "execution_count": 14,
   "metadata": {},
   "outputs": [],
   "source": [
    "# create the tokenizer\n",
    "tokenizer = Tokenizer()\n",
    "\n",
    "# prepare bag of words encoding of docs\n",
    "def prepare_data(train_docs, mode):\n",
    "    # fit the tokenizer on the documents\n",
    "    tokenizer.fit_on_texts(train_docs)\n",
    "    # encode training data set\n",
    "    Xtrain = tokenizer.texts_to_matrix(train_docs, mode=mode)\n",
    "    return Xtrain\n"
   ]
  },
  {
   "cell_type": "markdown",
   "metadata": {},
   "source": [
    "Now we will create neural network definition model with Keras. This will include multiple set of Dense, BatchNorm, Activation and dropout layer. You can decide on number of layers. \n",
    "\n",
    "Dropout is included in input latyer and hidden layers to reduce variance and overfitting on training data."
   ]
  },
  {
   "cell_type": "code",
   "execution_count": 21,
   "metadata": {},
   "outputs": [],
   "source": [
    "# Create a neural network model\n",
    "def create_model(xtrain):\n",
    "    \n",
    "    X_input = Input(shape=(xtrain.shape[1],))\n",
    "   \n",
    "    # dropout on input layer\n",
    "    X = Dropout(0.5)(X_input)\n",
    "    \n",
    "    # Dense -> BN -> RELU-> Dropout Block applied to X - First set\n",
    "    X = Dense(900, kernel_initializer='he_normal', name='D0')(X)\n",
    "    X = BatchNormalization(axis=1, name='bn0')(X)\n",
    "    X = Activation('relu')(X)\n",
    "    X = Dropout(0.5)(X)\n",
    "\n",
    "    # Dense -> BN -> RELU-> Dropout Block applied to X - Second set\n",
    "    X = Dense(600, kernel_initializer='he_normal', name='D1')(X)\n",
    "    X = BatchNormalization(axis=1, name='bn1')(X)\n",
    "    X = Activation('relu')(X)\n",
    "    X = Dropout(0.5)(X)\n",
    "    \n",
    "    # Dense -> BN -> RELU-> Dropout Block applied to X - Third set\n",
    "    X = Dense(300, kernel_initializer='he_normal', name='D2')(X)\n",
    "    X = BatchNormalization(axis=1, name='bn2')(X)\n",
    "    X = Activation('relu')(X)\n",
    "    X = Dropout(0.5)(X)\n",
    "\n",
    "    # output layer with softmax function for 3 classes prediction\n",
    "    X = Dense(3, kernel_initializer='he_normal', activation='softmax')(X)\n",
    "\n",
    "    Spookymodel = Model(inputs=X_input, outputs=X, name='SpookyAuthor')\n",
    "    \n",
    "    return Spookymodel"
   ]
  },
  {
   "cell_type": "markdown",
   "metadata": {},
   "source": [
    "We are ready to transform training data and create model"
   ]
  },
  {
   "cell_type": "code",
   "execution_count": 23,
   "metadata": {},
   "outputs": [],
   "source": [
    "#Prepare data and and create model \n",
    "# You can try with other modes 'binary','count','tfidf'\n",
    "modes = 'freq'\n",
    "\n",
    "#Training \n",
    "train_texts = X_Train[TEXT]\n",
    "# Training labels (coverted into seperate columsn for each other with 0,1)\n",
    "ytrain = np.array(pd.get_dummies(X_Train[AUTHOR]))\n",
    "\n",
    "# prepare data for mode\n",
    "xtrain = prepare_data(train_texts, mode)\n",
    "\n",
    "# model defination creation\n",
    "Spookymodel = create_model(xtrain)\n",
    "    "
   ]
  },
  {
   "cell_type": "code",
   "execution_count": 29,
   "metadata": {},
   "outputs": [
    {
     "name": "stdout",
     "output_type": "stream",
     "text": [
      "_________________________________________________________________\n",
      "Layer (type)                 Output Shape              Param #   \n",
      "=================================================================\n",
      "input_2 (InputLayer)         (None, 25944)             0         \n",
      "_________________________________________________________________\n",
      "dropout_5 (Dropout)          (None, 25944)             0         \n",
      "_________________________________________________________________\n",
      "D0 (Dense)                   (None, 900)               23350500  \n",
      "_________________________________________________________________\n",
      "bn0 (BatchNormalization)     (None, 900)               3600      \n",
      "_________________________________________________________________\n",
      "activation_4 (Activation)    (None, 900)               0         \n",
      "_________________________________________________________________\n",
      "dropout_6 (Dropout)          (None, 900)               0         \n",
      "_________________________________________________________________\n",
      "D1 (Dense)                   (None, 600)               540600    \n",
      "_________________________________________________________________\n",
      "bn1 (BatchNormalization)     (None, 600)               2400      \n",
      "_________________________________________________________________\n",
      "activation_5 (Activation)    (None, 600)               0         \n",
      "_________________________________________________________________\n",
      "dropout_7 (Dropout)          (None, 600)               0         \n",
      "_________________________________________________________________\n",
      "D2 (Dense)                   (None, 300)               180300    \n",
      "_________________________________________________________________\n",
      "bn2 (BatchNormalization)     (None, 300)               1200      \n",
      "_________________________________________________________________\n",
      "activation_6 (Activation)    (None, 300)               0         \n",
      "_________________________________________________________________\n",
      "dropout_8 (Dropout)          (None, 300)               0         \n",
      "_________________________________________________________________\n",
      "dense_2 (Dense)              (None, 3)                 903       \n",
      "=================================================================\n",
      "Total params: 24,079,503\n",
      "Trainable params: 24,075,903\n",
      "Non-trainable params: 3,600\n",
      "_________________________________________________________________\n"
     ]
    }
   ],
   "source": [
    "# Summarize the model\n",
    "Spookymodel.summary()"
   ]
  },
  {
   "cell_type": "markdown",
   "metadata": {},
   "source": [
    "Now we are ready to the model. Let's complie and train the model.\n",
    "\n",
    "Optimizer - We will use \"Adamax\" optimizer with learning rate of 0.05 and rate decay of 0.001. You can tune these as per your preferences.\n",
    "\n",
    "Loss function - Categorical_crossentropy.\n",
    "\n",
    "Batch size - 64\n",
    "\n",
    "validation split- 20%"
   ]
  },
  {
   "cell_type": "code",
   "execution_count": 73,
   "metadata": {},
   "outputs": [
    {
     "name": "stdout",
     "output_type": "stream",
     "text": [
      "Train on 15663 samples, validate on 3916 samples\n",
      "Epoch 1/25\n",
      "198s - loss: 0.3545 - acc: 0.8660 - val_loss: 0.4128 - val_acc: 0.8501\n",
      "Epoch 2/25\n",
      "196s - loss: 0.3650 - acc: 0.8659 - val_loss: 0.4121 - val_acc: 0.8501\n",
      "Epoch 3/25\n",
      "195s - loss: 0.3611 - acc: 0.8720 - val_loss: 0.4099 - val_acc: 0.8506\n",
      "Epoch 4/25\n",
      "226s - loss: 0.3668 - acc: 0.8703 - val_loss: 0.4098 - val_acc: 0.8519\n",
      "Epoch 5/25\n",
      "226s - loss: 0.3704 - acc: 0.8646 - val_loss: 0.4112 - val_acc: 0.8519\n",
      "Epoch 6/25\n",
      "225s - loss: 0.3623 - acc: 0.8682 - val_loss: 0.4134 - val_acc: 0.8493\n",
      "Epoch 7/25\n",
      "225s - loss: 0.3657 - acc: 0.8668 - val_loss: 0.4138 - val_acc: 0.8509\n",
      "Epoch 8/25\n",
      "225s - loss: 0.3564 - acc: 0.8659 - val_loss: 0.4100 - val_acc: 0.8532\n",
      "Epoch 9/25\n",
      "225s - loss: 0.3631 - acc: 0.8690 - val_loss: 0.4124 - val_acc: 0.8529\n",
      "Epoch 10/25\n",
      "225s - loss: 0.3678 - acc: 0.8682 - val_loss: 0.4165 - val_acc: 0.8506\n",
      "Epoch 11/25\n",
      "226s - loss: 0.3626 - acc: 0.8690 - val_loss: 0.4142 - val_acc: 0.8504\n",
      "Epoch 12/25\n",
      "226s - loss: 0.3578 - acc: 0.8720 - val_loss: 0.4169 - val_acc: 0.8491\n",
      "Epoch 13/25\n",
      "225s - loss: 0.3631 - acc: 0.8678 - val_loss: 0.4155 - val_acc: 0.8496\n",
      "Epoch 14/25\n",
      "225s - loss: 0.3646 - acc: 0.8666 - val_loss: 0.4113 - val_acc: 0.8521\n",
      "Epoch 15/25\n",
      "226s - loss: 0.3607 - acc: 0.8672 - val_loss: 0.4139 - val_acc: 0.8509\n",
      "Epoch 16/25\n",
      "224s - loss: 0.3502 - acc: 0.8727 - val_loss: 0.4127 - val_acc: 0.8516\n",
      "Epoch 17/25\n",
      "225s - loss: 0.3605 - acc: 0.8684 - val_loss: 0.4177 - val_acc: 0.8491\n",
      "Epoch 18/25\n",
      "200s - loss: 0.3562 - acc: 0.8700 - val_loss: 0.4122 - val_acc: 0.8524\n",
      "Epoch 19/25\n",
      "194s - loss: 0.3620 - acc: 0.8661 - val_loss: 0.4115 - val_acc: 0.8519\n",
      "Epoch 20/25\n",
      "194s - loss: 0.3491 - acc: 0.8720 - val_loss: 0.4124 - val_acc: 0.8506\n",
      "Epoch 21/25\n",
      "195s - loss: 0.3565 - acc: 0.8716 - val_loss: 0.4124 - val_acc: 0.8511\n",
      "Epoch 22/25\n",
      "194s - loss: 0.3700 - acc: 0.8646 - val_loss: 0.4139 - val_acc: 0.8493\n",
      "Epoch 23/25\n",
      "194s - loss: 0.3614 - acc: 0.8675 - val_loss: 0.4134 - val_acc: 0.8509\n",
      "Epoch 24/25\n",
      "194s - loss: 0.3603 - acc: 0.8704 - val_loss: 0.4115 - val_acc: 0.8511\n",
      "Epoch 25/25\n",
      "195s - loss: 0.3696 - acc: 0.8651 - val_loss: 0.4139 - val_acc: 0.8516\n"
     ]
    },
    {
     "data": {
      "image/png": "[encoded data removed]",
      "text/plain": [
       "<matplotlib.figure.Figure at 0x17f85af60>"
      ]
     },
     "metadata": {},
     "output_type": "display_data"
    }
   ],
   "source": [
    "optimzer = optimizers.Adamax(lr=0.0001, beta_1=0.9, beta_2=0.99, epsilon=1e-08, decay=0.001)\n",
    "\n",
    "# compile network\n",
    "Spookymodel.compile(loss='categorical_crossentropy', optimizer=optimzer, metrics=['accuracy'])\n",
    "\n",
    "# fitnetwork\n",
    "train_history = Spookymodel.fit(x= xtrain, y=ytrain, epochs=25,verbose=2,batch_size=32, validation_split=0.2)\n",
    "\n",
    "# Plot the training and validation loss at each epoch\n",
    "loss = train_history.history['loss']\n",
    "val_loss = train_history.history['val_loss']\n",
    "pyplot.plot(loss)\n",
    "pyplot.plot(val_loss)\n",
    "pyplot.legend(['loss', 'val_loss'])\n",
    "pyplot.show()"
   ]
  },
  {
   "cell_type": "markdown",
   "metadata": {},
   "source": [
    "Validation loss of 0.43 is achieved with 5 epochs. It can be minimized further with hyperparameter tunning and more training."
   ]
  },
  {
   "cell_type": "code",
   "execution_count": 61,
   "metadata": {},
   "outputs": [
    {
     "ename": "ValueError",
     "evalue": "Input 0 is incompatible with layer conv1d_3: expected ndim=3, found ndim=2",
     "output_type": "error",
     "traceback": [
      "\u001b[0;31m---------------------------------------------------------------------------\u001b[0m",
      "\u001b[0;31mValueError\u001b[0m                                Traceback (most recent call last)",
      "\u001b[0;32m<ipython-input-61-d8dc0c042d60>\u001b[0m in \u001b[0;36m<module>\u001b[0;34m()\u001b[0m\n\u001b[1;32m      1\u001b[0m \u001b[0mConvNetmodel\u001b[0m \u001b[0;34m=\u001b[0m \u001b[0mSequential\u001b[0m\u001b[0;34m(\u001b[0m\u001b[0;34m)\u001b[0m\u001b[0;34m\u001b[0m\u001b[0m\n\u001b[1;32m      2\u001b[0m ConvNetmodel.add(Conv1D(32, (3), padding='same',\n\u001b[0;32m----> 3\u001b[0;31m                  input_shape=xtrain.shape[1:]))\n\u001b[0m\u001b[1;32m      4\u001b[0m \u001b[0mConvNetmodel\u001b[0m\u001b[0;34m.\u001b[0m\u001b[0madd\u001b[0m\u001b[0;34m(\u001b[0m\u001b[0mActivation\u001b[0m\u001b[0;34m(\u001b[0m\u001b[0;34m'relu'\u001b[0m\u001b[0;34m)\u001b[0m\u001b[0;34m)\u001b[0m\u001b[0;34m\u001b[0m\u001b[0m\n\u001b[1;32m      5\u001b[0m \u001b[0mConvNetmodel\u001b[0m\u001b[0;34m.\u001b[0m\u001b[0madd\u001b[0m\u001b[0;34m(\u001b[0m\u001b[0mConv1D\u001b[0m\u001b[0;34m(\u001b[0m\u001b[0;36m32\u001b[0m\u001b[0;34m,\u001b[0m \u001b[0;34m(\u001b[0m\u001b[0;36m3\u001b[0m\u001b[0;34m)\u001b[0m\u001b[0;34m)\u001b[0m\u001b[0;34m)\u001b[0m\u001b[0;34m\u001b[0m\u001b[0m\n",
      "\u001b[0;32m~/anaconda3/envs/Tensorflow/lib/python3.5/site-packages/keras/models.py\u001b[0m in \u001b[0;36madd\u001b[0;34m(self, layer)\u001b[0m\n\u001b[1;32m    440\u001b[0m                 \u001b[0;31m# and create the node connecting the current layer\u001b[0m\u001b[0;34m\u001b[0m\u001b[0;34m\u001b[0m\u001b[0m\n\u001b[1;32m    441\u001b[0m                 \u001b[0;31m# to the input layer we just created.\u001b[0m\u001b[0;34m\u001b[0m\u001b[0;34m\u001b[0m\u001b[0m\n\u001b[0;32m--> 442\u001b[0;31m                 \u001b[0mlayer\u001b[0m\u001b[0;34m(\u001b[0m\u001b[0mx\u001b[0m\u001b[0;34m)\u001b[0m\u001b[0;34m\u001b[0m\u001b[0m\n\u001b[0m\u001b[1;32m    443\u001b[0m \u001b[0;34m\u001b[0m\u001b[0m\n\u001b[1;32m    444\u001b[0m             \u001b[0;32mif\u001b[0m \u001b[0mlen\u001b[0m\u001b[0;34m(\u001b[0m\u001b[0mlayer\u001b[0m\u001b[0;34m.\u001b[0m\u001b[0minbound_nodes\u001b[0m\u001b[0;34m)\u001b[0m \u001b[0;34m!=\u001b[0m \u001b[0;36m1\u001b[0m\u001b[0;34m:\u001b[0m\u001b[0;34m\u001b[0m\u001b[0m\n",
      "\u001b[0;32m~/anaconda3/envs/Tensorflow/lib/python3.5/site-packages/keras/engine/topology.py\u001b[0m in \u001b[0;36m__call__\u001b[0;34m(self, inputs, **kwargs)\u001b[0m\n\u001b[1;32m    556\u001b[0m                 \u001b[0;31m# Raise exceptions in case the input is not compatible\u001b[0m\u001b[0;34m\u001b[0m\u001b[0;34m\u001b[0m\u001b[0m\n\u001b[1;32m    557\u001b[0m                 \u001b[0;31m# with the input_spec specified in the layer constructor.\u001b[0m\u001b[0;34m\u001b[0m\u001b[0;34m\u001b[0m\u001b[0m\n\u001b[0;32m--> 558\u001b[0;31m                 \u001b[0mself\u001b[0m\u001b[0;34m.\u001b[0m\u001b[0massert_input_compatibility\u001b[0m\u001b[0;34m(\u001b[0m\u001b[0minputs\u001b[0m\u001b[0;34m)\u001b[0m\u001b[0;34m\u001b[0m\u001b[0m\n\u001b[0m\u001b[1;32m    559\u001b[0m \u001b[0;34m\u001b[0m\u001b[0m\n\u001b[1;32m    560\u001b[0m                 \u001b[0;31m# Collect input shapes to build layer.\u001b[0m\u001b[0;34m\u001b[0m\u001b[0;34m\u001b[0m\u001b[0m\n",
      "\u001b[0;32m~/anaconda3/envs/Tensorflow/lib/python3.5/site-packages/keras/engine/topology.py\u001b[0m in \u001b[0;36massert_input_compatibility\u001b[0;34m(self, inputs)\u001b[0m\n\u001b[1;32m    455\u001b[0m                                      \u001b[0mself\u001b[0m\u001b[0;34m.\u001b[0m\u001b[0mname\u001b[0m \u001b[0;34m+\u001b[0m \u001b[0;34m': expected ndim='\u001b[0m \u001b[0;34m+\u001b[0m\u001b[0;34m\u001b[0m\u001b[0m\n\u001b[1;32m    456\u001b[0m                                      \u001b[0mstr\u001b[0m\u001b[0;34m(\u001b[0m\u001b[0mspec\u001b[0m\u001b[0;34m.\u001b[0m\u001b[0mndim\u001b[0m\u001b[0;34m)\u001b[0m \u001b[0;34m+\u001b[0m \u001b[0;34m', found ndim='\u001b[0m \u001b[0;34m+\u001b[0m\u001b[0;34m\u001b[0m\u001b[0m\n\u001b[0;32m--> 457\u001b[0;31m                                      str(K.ndim(x)))\n\u001b[0m\u001b[1;32m    458\u001b[0m             \u001b[0;32mif\u001b[0m \u001b[0mspec\u001b[0m\u001b[0;34m.\u001b[0m\u001b[0mmax_ndim\u001b[0m \u001b[0;32mis\u001b[0m \u001b[0;32mnot\u001b[0m \u001b[0;32mNone\u001b[0m\u001b[0;34m:\u001b[0m\u001b[0;34m\u001b[0m\u001b[0m\n\u001b[1;32m    459\u001b[0m                 \u001b[0mndim\u001b[0m \u001b[0;34m=\u001b[0m \u001b[0mK\u001b[0m\u001b[0;34m.\u001b[0m\u001b[0mndim\u001b[0m\u001b[0;34m(\u001b[0m\u001b[0mx\u001b[0m\u001b[0;34m)\u001b[0m\u001b[0;34m\u001b[0m\u001b[0m\n",
      "\u001b[0;31mValueError\u001b[0m: Input 0 is incompatible with layer conv1d_3: expected ndim=3, found ndim=2"
     ]
    }
   ],
   "source": [
    "ConvNetmodel = Sequential()\n",
    "ConvNetmodel.add(Conv1D(32, (3), padding='same',\n",
    "                 input_shape=xtrain.shape[1:]))\n",
    "ConvNetmodel.add(Activation('relu'))\n",
    "ConvNetmodel.add(Conv1D(32, (3)))\n",
    "ConvNetmodel.add(Activation('relu'))\n",
    "ConvNetmodel.add(MaxPooling2D(pool_size=(2, 2)))\n",
    "ConvNetmodel.add(Dropout(0.25))\n",
    "\n",
    "ConvNetmodel.add(Conv1D(64, (3), padding='same'))\n",
    "ConvNetmodel.add(Activation('relu'))\n",
    "ConvNetmodel.add(Conv1D(64, (3)))\n",
    "ConvNetmodel.add(Activation('relu'))\n",
    "ConvNetmodel.add(MaxPooling2D(pool_size=(2, 2)))\n",
    "ConvNetmodel.add(Dropout(0.25))\n",
    "\n",
    "ConvNetmodel.add(Flatten())\n",
    "ConvNetmodel.add(Dense(512))\n",
    "ConvNetmodel.add(Activation('relu'))\n",
    "ConvNetmodel.add(Dropout(0.5))\n",
    "ConvNetmodel.add(Dense(3))\n",
    "ConvNetmodel.add(Activation('softmax'))"
   ]
  },
  {
   "cell_type": "code",
   "execution_count": 74,
   "metadata": {},
   "outputs": [
    {
     "ename": "ValueError",
     "evalue": "Input 0 is incompatible with layer zero_padding2d_4: expected ndim=4, found ndim=3",
     "output_type": "error",
     "traceback": [
      "\u001b[0;31m---------------------------------------------------------------------------\u001b[0m",
      "\u001b[0;31mValueError\u001b[0m                                Traceback (most recent call last)",
      "\u001b[0;32m<ipython-input-74-d3cf8017ad5c>\u001b[0m in \u001b[0;36m<module>\u001b[0;34m()\u001b[0m\n\u001b[1;32m     12\u001b[0m \u001b[0;34m\u001b[0m\u001b[0m\n\u001b[1;32m     13\u001b[0m \u001b[0;31m# model defination creation\u001b[0m\u001b[0;34m\u001b[0m\u001b[0;34m\u001b[0m\u001b[0m\n\u001b[0;32m---> 14\u001b[0;31m \u001b[0mSpookymodel_ConvNet\u001b[0m \u001b[0;34m=\u001b[0m \u001b[0mConvNet_model\u001b[0m\u001b[0;34m(\u001b[0m\u001b[0mxtrain\u001b[0m\u001b[0;34m)\u001b[0m\u001b[0;34m\u001b[0m\u001b[0m\n\u001b[0m\u001b[1;32m     15\u001b[0m \u001b[0;34m\u001b[0m\u001b[0m\n",
      "\u001b[0;32m<ipython-input-50-60e908c6b712>\u001b[0m in \u001b[0;36mConvNet_model\u001b[0;34m(xtrain)\u001b[0m\n\u001b[1;32m      5\u001b[0m \u001b[0;34m\u001b[0m\u001b[0m\n\u001b[1;32m      6\u001b[0m     \u001b[0;31m# Zero-Padding: pads the border of X_input with zeroes\u001b[0m\u001b[0;34m\u001b[0m\u001b[0;34m\u001b[0m\u001b[0m\n\u001b[0;32m----> 7\u001b[0;31m     \u001b[0mX\u001b[0m \u001b[0;34m=\u001b[0m \u001b[0mZeroPadding2D\u001b[0m\u001b[0;34m(\u001b[0m\u001b[0;34m(\u001b[0m\u001b[0;36m3\u001b[0m\u001b[0;34m,\u001b[0m \u001b[0;36m3\u001b[0m\u001b[0;34m)\u001b[0m\u001b[0;34m)\u001b[0m\u001b[0;34m(\u001b[0m\u001b[0mX_input\u001b[0m\u001b[0;34m)\u001b[0m\u001b[0;34m\u001b[0m\u001b[0m\n\u001b[0m\u001b[1;32m      8\u001b[0m \u001b[0;34m\u001b[0m\u001b[0m\n\u001b[1;32m      9\u001b[0m     \u001b[0;31m# CONV -> BN -> RELU Block applied to X\u001b[0m\u001b[0;34m\u001b[0m\u001b[0;34m\u001b[0m\u001b[0m\n",
      "\u001b[0;32m~/anaconda3/envs/Tensorflow/lib/python3.5/site-packages/keras/engine/topology.py\u001b[0m in \u001b[0;36m__call__\u001b[0;34m(self, inputs, **kwargs)\u001b[0m\n\u001b[1;32m    556\u001b[0m                 \u001b[0;31m# Raise exceptions in case the input is not compatible\u001b[0m\u001b[0;34m\u001b[0m\u001b[0;34m\u001b[0m\u001b[0m\n\u001b[1;32m    557\u001b[0m                 \u001b[0;31m# with the input_spec specified in the layer constructor.\u001b[0m\u001b[0;34m\u001b[0m\u001b[0;34m\u001b[0m\u001b[0m\n\u001b[0;32m--> 558\u001b[0;31m                 \u001b[0mself\u001b[0m\u001b[0;34m.\u001b[0m\u001b[0massert_input_compatibility\u001b[0m\u001b[0;34m(\u001b[0m\u001b[0minputs\u001b[0m\u001b[0;34m)\u001b[0m\u001b[0;34m\u001b[0m\u001b[0m\n\u001b[0m\u001b[1;32m    559\u001b[0m \u001b[0;34m\u001b[0m\u001b[0m\n\u001b[1;32m    560\u001b[0m                 \u001b[0;31m# Collect input shapes to build layer.\u001b[0m\u001b[0;34m\u001b[0m\u001b[0;34m\u001b[0m\u001b[0m\n",
      "\u001b[0;32m~/anaconda3/envs/Tensorflow/lib/python3.5/site-packages/keras/engine/topology.py\u001b[0m in \u001b[0;36massert_input_compatibility\u001b[0;34m(self, inputs)\u001b[0m\n\u001b[1;32m    455\u001b[0m                                      \u001b[0mself\u001b[0m\u001b[0;34m.\u001b[0m\u001b[0mname\u001b[0m \u001b[0;34m+\u001b[0m \u001b[0;34m': expected ndim='\u001b[0m \u001b[0;34m+\u001b[0m\u001b[0;34m\u001b[0m\u001b[0m\n\u001b[1;32m    456\u001b[0m                                      \u001b[0mstr\u001b[0m\u001b[0;34m(\u001b[0m\u001b[0mspec\u001b[0m\u001b[0;34m.\u001b[0m\u001b[0mndim\u001b[0m\u001b[0;34m)\u001b[0m \u001b[0;34m+\u001b[0m \u001b[0;34m', found ndim='\u001b[0m \u001b[0;34m+\u001b[0m\u001b[0;34m\u001b[0m\u001b[0m\n\u001b[0;32m--> 457\u001b[0;31m                                      str(K.ndim(x)))\n\u001b[0m\u001b[1;32m    458\u001b[0m             \u001b[0;32mif\u001b[0m \u001b[0mspec\u001b[0m\u001b[0;34m.\u001b[0m\u001b[0mmax_ndim\u001b[0m \u001b[0;32mis\u001b[0m \u001b[0;32mnot\u001b[0m \u001b[0;32mNone\u001b[0m\u001b[0;34m:\u001b[0m\u001b[0;34m\u001b[0m\u001b[0m\n\u001b[1;32m    459\u001b[0m                 \u001b[0mndim\u001b[0m \u001b[0;34m=\u001b[0m \u001b[0mK\u001b[0m\u001b[0;34m.\u001b[0m\u001b[0mndim\u001b[0m\u001b[0;34m(\u001b[0m\u001b[0mx\u001b[0m\u001b[0;34m)\u001b[0m\u001b[0;34m\u001b[0m\u001b[0m\n",
      "\u001b[0;31mValueError\u001b[0m: Input 0 is incompatible with layer zero_padding2d_4: expected ndim=4, found ndim=3"
     ]
    }
   ],
   "source": [
    "#Prepare data and and create model \n",
    "# You can try with other modes 'binary','count','tfidf'\n",
    "modes = 'freq'\n",
    "\n",
    "#Training \n",
    "train_texts = X_Train[TEXT]\n",
    "# Training labels (coverted into seperate columsn for each other with 0,1)\n",
    "ytrain = np.array(pd.get_dummies(X_Train[AUTHOR]))\n",
    "\n",
    "# prepare data for mode\n",
    "xtrain = prepare_data(train_texts, mode)\n",
    "\n",
    "# model defination creation\n",
    "Spookymodel_ConvNet = ConvNet_model(xtrain)\n",
    "    "
   ]
  },
  {
   "cell_type": "markdown",
   "metadata": {},
   "source": [
    "**Prediction on test data**"
   ]
  },
  {
   "cell_type": "markdown",
   "metadata": {},
   "source": [
    "Now, we are ready to predict on test data and submit the results"
   ]
  },
  {
   "cell_type": "code",
   "execution_count": 36,
   "metadata": {},
   "outputs": [],
   "source": [
    "# Function to predict the author class on test data\n",
    "def predict_author(text, vocab,tokenizer, model):\n",
    "    # clean\n",
    "    tokens = clean_text(text)\n",
    "    # filter by vocab\n",
    "    tokens = [w for w in tokens if w in vocab]\n",
    "    # convert to line\n",
    "    line = ' '.join(tokens)\n",
    "    # encode\n",
    "    encoded = tokenizer.texts_to_matrix([line], mode='freq')\n",
    "    # prediction\n",
    "    yhat = model.predict(encoded, verbose=0)\n",
    "    return yhat\n"
   ]
  },
  {
   "cell_type": "code",
   "execution_count": 75,
   "metadata": {},
   "outputs": [],
   "source": [
    "# Load test data into dataframe\n",
    "X_sub = pd.read_csv(\"test.csv\")\n",
    "\n",
    "# Initilize prediction matrix \n",
    "y_pred = np.zeros((X_sub.shape[0],3))\n",
    "\n",
    "# Predict for each  sample in test dataset\n",
    "i = 0\n",
    "for text in X_sub[TEXT]:\n",
    "    y_pred[i]=predict_author(text,vocab,tokenizer,Spookymodel)\n",
    "    i +=1\n"
   ]
  },
  {
   "cell_type": "code",
   "execution_count": 76,
   "metadata": {},
   "outputs": [],
   "source": [
    "#Creating submission datafram\n",
    "submission = pd.DataFrame(y_pred,dtype=float)\n",
    "submission=submission.rename(index=int, columns={0: \"EAP\", 1: \"HPL\", 2: \"MWS\"})\n",
    "submission.insert(0,'id',X_sub[\"id\"])\n",
    "\n",
    "\n",
    "#Save as CSV file for submission\n",
    "submission.to_csv(\"sub.csv\",sep=',', encoding='utf-8')"
   ]
  },
  {
   "cell_type": "code",
   "execution_count": null,
   "metadata": {},
   "outputs": [],
   "source": []
  }
 ],
 "metadata": {
  "kernelspec": {
   "display_name": "Python 3",
   "language": "python",
   "name": "python3"
  },
  "language_info": {
   "codemirror_mode": {
    "name": "ipython",
    "version": 3
   },
   "file_extension": ".py",
   "mimetype": "text/x-python",
   "name": "python",
   "nbconvert_exporter": "python",
   "pygments_lexer": "ipython3",
   "version": "3.5.4"
  }
 },
 "nbformat": 4,
 "nbformat_minor": 2
}
